{
 "cells": [
  {
   "cell_type": "code",
   "execution_count": 1,
   "id": "ebab1bdb",
   "metadata": {},
   "outputs": [
    {
     "name": "stdout",
     "output_type": "stream",
     "text": [
      "Academic license - for non-commercial use only - expires 2024-03-07\n",
      "Using license file /home/schwartzlab/gurobi.lic\n"
     ]
    }
   ],
   "source": [
    "import numpy as np\n",
    "import pandas as pd\n",
    "import cobra.test\n",
    "import os\n",
    "\n",
    "from os.path import join\n",
    "\n",
    "from time import time\n",
    "\n",
    "\n",
    "from cobra.flux_analysis import (\n",
    "    single_gene_deletion, single_reaction_deletion, double_gene_deletion,\n",
    "    double_reaction_deletion)\n",
    "\n",
    "import cobra\n",
    "from cobra.test import create_test_model\n",
    "cobra_config = cobra.Configuration()\n",
    "cobra_config.solver = \"gurobi\"\n",
    "model = create_test_model(\"textbook\")\n",
    "model.solver\n",
    "\n",
    "a = cobra.io.read_sbml_model(\"iEC1344_C.xml\")\n"
   ]
  },
  {
   "cell_type": "code",
   "execution_count": 9,
   "id": "5c1b0ab9",
   "metadata": {},
   "outputs": [
    {
     "name": "stdout",
     "output_type": "stream",
     "text": [
      "0          ACOAD4f\n",
      "1           H2Stex\n",
      "2            PAPSR\n",
      "3       ARGAGMt7pp\n",
      "4            METAT\n",
      "          ...     \n",
      "417         DHORTS\n",
      "418      FACOAE141\n",
      "419        ACACT3r\n",
      "420    EX_glc__D_e\n",
      "421       DALAt2pp\n",
      "Name: Reaction names, Length: 422, dtype: object\n",
      "0              GAL1PPpp\n",
      "1                 GALKr\n",
      "2               GALM2pp\n",
      "3                GALtex\n",
      "4                LACZpp\n",
      "             ...       \n",
      "439    EX_metsox_S__L_e\n",
      "440           EX_mso3_e\n",
      "441         EX_sulfac_e\n",
      "442              PHETA1\n",
      "443               TYRTA\n",
      "Name: Reaction names, Length: 444, dtype: object\n"
     ]
    }
   ],
   "source": [
    "csvFile = pd.read_csv(\"FINAL different reactions glu vs lac.csv\")\n",
    "print(csvFile.iloc[:, 2])\n",
    "\n",
    "csvFile2 = pd.read_csv(r'/home/schwartzlab/Documents/Anthi-Maria2/-30 to 30 files/NEW different reactions glu vs lac -30 to  30.csv')\n",
    "print(csvFile2.iloc[:, 1])\n"
   ]
  },
  {
   "cell_type": "code",
   "execution_count": 20,
   "id": "4f8a6a5e",
   "metadata": {},
   "outputs": [
    {
     "data": {
      "text/plain": [
       "55"
      ]
     },
     "execution_count": 20,
     "metadata": {},
     "output_type": "execute_result"
    }
   ],
   "source": [
    "s= csvFile.iloc[:, 2]\n",
    "s2= csvFile2.iloc[:, 1]\n",
    "\n",
    "union = pd.Series(np.union1d(s, s2))\n",
    "intersect = pd.Series(np.intersect1d(s, s2))\n",
    "bigb2= union[~union.isin(intersect)]\n",
    "bigb2\n",
    "\n",
    "len(intersect)\n"
   ]
  },
  {
   "cell_type": "code",
   "execution_count": null,
   "id": "bab4ee6a",
   "metadata": {},
   "outputs": [],
   "source": []
  }
 ],
 "metadata": {
  "kernelspec": {
   "display_name": "Python 3",
   "language": "python",
   "name": "python3"
  },
  "language_info": {
   "codemirror_mode": {
    "name": "ipython",
    "version": 3
   },
   "file_extension": ".py",
   "mimetype": "text/x-python",
   "name": "python",
   "nbconvert_exporter": "python",
   "pygments_lexer": "ipython3",
   "version": "3.8.3"
  }
 },
 "nbformat": 4,
 "nbformat_minor": 5
}
